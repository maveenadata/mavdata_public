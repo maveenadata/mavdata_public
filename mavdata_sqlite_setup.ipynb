{
 "cells": [
  {
   "cell_type": "markdown",
   "id": "93415549-727d-48ad-ab08-f42e851196cf",
   "metadata": {},
   "source": [
    "# MaveenaData SQL Course: Setup SQLite"
   ]
  },
  {
   "cell_type": "code",
   "execution_count": 6,
   "id": "f8e60ce1-6f64-4426-a1b1-304e27c4e004",
   "metadata": {},
   "outputs": [
    {
     "data": {
      "text/plain": [
       "'/Users/jonathankim/Documents/MaveenaData/mavdata_sqlite'"
      ]
     },
     "execution_count": 6,
     "metadata": {},
     "output_type": "execute_result"
    }
   ],
   "source": [
    "pwd"
   ]
  },
  {
   "cell_type": "code",
   "execution_count": 1,
   "id": "96aff8bd-89fc-4302-9877-659f53169f3c",
   "metadata": {},
   "outputs": [],
   "source": [
    "import pandas as pd\n",
    "import sqlite3"
   ]
  },
  {
   "cell_type": "code",
   "execution_count": 2,
   "id": "8c739134-c8ef-44e1-98cc-94ae80506f50",
   "metadata": {},
   "outputs": [],
   "source": [
    "def proc_tbl(df: pd.DataFrame) -> pd.DataFrame:\n",
    "    # data contains an unnamed column with only null values\n",
    "    return df.dropna(axis=\"columns\", how=\"all\").rename(axis=\"columns\", mapper=lambda n: n.lower().replace(\" \", \"_\"))\n"
   ]
  },
  {
   "cell_type": "code",
   "execution_count": 7,
   "id": "db85b6e7-cea3-4b06-8a63-5d67e263b2fc",
   "metadata": {},
   "outputs": [],
   "source": [
    "def data():\n",
    "    frame = pd.read_csv(\"WDI_CSV/WDIData.csv\")\n",
    "    frame = proc_tbl(frame)\n",
    "    frame = frame.drop(columns=[\"country_name\", \"indicator_name\"])\n",
    "\n",
    "    frame = frame.set_index([\"indicator_code\", \"country_code\"], verify_integrity=True)\n",
    "    # frame = frame.stack()\n",
    "    frame = frame.stack().rename_axis(index={None: \"year\"}).rename(\"value\")\n",
    "    # convert year to int\n",
    "    frame.index = frame.index.set_levels(frame.index.levels[-1].astype(int), level=-1)\n",
    "    return frame"
   ]
  },
  {
   "cell_type": "code",
   "execution_count": 8,
   "id": "1b42190a-4661-447e-becd-9cc4e6cbf4ca",
   "metadata": {},
   "outputs": [],
   "source": [
    "def table_name(csv: str):\n",
    "    return csv.replace(\"-\",\"_\").replace(\"WDI\", \"wdi_\").lower()"
   ]
  },
  {
   "cell_type": "code",
   "execution_count": 12,
   "id": "47a576dd-8079-4b8d-b2f5-7db55c25cc8c",
   "metadata": {},
   "outputs": [
    {
     "name": "stdout",
     "output_type": "stream",
     "text": [
      "reading data\n",
      "saving data\n",
      "WDI_CSV/WDICountry -> wdi__csv/wdi_country\n",
      "WDI_CSV/WDICountry-Series -> wdi__csv/wdi_country_series\n",
      "WDI_CSV/WDIFootNote -> wdi__csv/wdi_footnote\n",
      "WDI_CSV/WDISeries -> wdi__csv/wdi_series\n",
      "WDI_CSV/WDISeries-Time -> wdi__csv/wdi_series_time\n",
      "vacuuming\n"
     ]
    }
   ],
   "source": [
    "\n",
    "with sqlite3.connect(\"wdi.sqlite3\") as c:\n",
    "    print(\"reading data\")\n",
    "    d = data()\n",
    "    print(\"saving data\")\n",
    "    d.to_sql(table_name(\"WDIData\"), con=c)\n",
    "    for csv in ['WDI_CSV/'+c for c in \n",
    "                [\"WDICountry\",\n",
    "                 \"WDICountry-Series\",\n",
    "                 \"WDIFootNote\",\n",
    "                 \"WDISeries\",\n",
    "                 \"WDISeries-Time\"]\n",
    "    ]:\n",
    "        tblname = table_name(csv)\n",
    "        print(f\"{csv} -> {tblname}\")\n",
    "        proc_tbl(pd.read_csv(f\"{csv}.csv\")).to_sql(tblname, con=c, index=False)\n",
    "        # c.execute(f\"create index on {tblname}\")\n",
    "    print(\"vacuuming\")\n",
    "    c.execute(\"vacuum\")"
   ]
  },
  {
   "cell_type": "code",
   "execution_count": null,
   "id": "c8717b7b-6af2-426e-90c6-6b73a85d710d",
   "metadata": {},
   "outputs": [],
   "source": []
  }
 ],
 "metadata": {
  "kernelspec": {
   "display_name": "Python 3 (ipykernel)",
   "language": "python",
   "name": "python3"
  },
  "language_info": {
   "codemirror_mode": {
    "name": "ipython",
    "version": 3
   },
   "file_extension": ".py",
   "mimetype": "text/x-python",
   "name": "python",
   "nbconvert_exporter": "python",
   "pygments_lexer": "ipython3",
   "version": "3.9.12"
  }
 },
 "nbformat": 4,
 "nbformat_minor": 5
}
