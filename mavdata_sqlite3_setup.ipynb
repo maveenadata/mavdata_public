{
 "cells": [
  {
   "cell_type": "markdown",
   "id": "93415549-727d-48ad-ab08-f42e851196cf",
   "metadata": {},
   "source": [
    "# MaveenaData SQLite3 Setup"
   ]
  },
  {
   "cell_type": "code",
   "execution_count": 1,
   "id": "96aff8bd-89fc-4302-9877-659f53169f3c",
   "metadata": {},
   "outputs": [],
   "source": [
    "import pandas as pd\n",
    "import sqlite3, os\n",
    "from datetime import datetime"
   ]
  },
  {
   "cell_type": "code",
   "execution_count": 2,
   "id": "290d981f-f9ff-46d9-8285-064b0e8862ea",
   "metadata": {},
   "outputs": [],
   "source": [
    "pd.set_option('display.max_rows', 500)"
   ]
  },
  {
   "cell_type": "code",
   "execution_count": 3,
   "id": "f8e60ce1-6f64-4426-a1b1-304e27c4e004",
   "metadata": {},
   "outputs": [
    {
     "data": {
      "text/plain": [
       "'/Users/jonathankim/Documents/MaveenaData/mavdata_sqlite'"
      ]
     },
     "execution_count": 3,
     "metadata": {},
     "output_type": "execute_result"
    }
   ],
   "source": [
    "pwd"
   ]
  },
  {
   "cell_type": "code",
   "execution_count": 4,
   "id": "710c7983-19c3-47d5-a7fc-b838dc1442e5",
   "metadata": {},
   "outputs": [],
   "source": [
    "Data_PATH = 'Data/'\n",
    "Database_PATH = 'Databases/'\n",
    "Object_PATH = 'Objects/'"
   ]
  },
  {
   "cell_type": "code",
   "execution_count": 10,
   "id": "b15ebc7e-a2a9-4874-8a03-e4111cc8f708",
   "metadata": {},
   "outputs": [],
   "source": [
    "def create_DB(db_name, table_dict, rewrite_db=True):\n",
    "    '''\n",
    "    Create sqlite3 database.\n",
    "    \n",
    "    Parameters:\n",
    "        > db_name => str:\n",
    "            Name of database\n",
    "\n",
    "        > table_dict => dict:\n",
    "            key (str): table name\n",
    "            value (df): table dataframe\n",
    "            \n",
    "        > rewrite_db ==> Bool (Default=True):\n",
    "            If True, then db file will be overwritten if exists.\n",
    "            If False, then error will be raised.\n",
    "    '''\n",
    "    import sqlite3, os\n",
    "    \n",
    "    if rewrite_db == True:\n",
    "        # Delete db if exists.\n",
    "        try:\n",
    "            os.remove(db_name)\n",
    "        except OSError:\n",
    "            pass\n",
    "\n",
    "    with sqlite3.connect(db_name) as c:\n",
    "\n",
    "        # Creating Tables.\n",
    "        print(\"Creating Tables...\")\n",
    "        for k,v in table_dict.items():\n",
    "            print('   ',k)\n",
    "            v.to_sql(k,con=c)\n",
    "            \n",
    "        print(\"Vacuuming...\")\n",
    "        c.execute(\"vacuum\")\n",
    "        \n",
    "        print(\"Completed\")"
   ]
  },
  {
   "cell_type": "markdown",
   "id": "13b809b2-ed3e-406b-ae9b-7bb8b926f605",
   "metadata": {
    "tags": []
   },
   "source": [
    "## admission.sqlite3"
   ]
  },
  {
   "cell_type": "markdown",
   "id": "d85271d5-90f7-4eb6-8076-89d25fd9b2d9",
   "metadata": {},
   "source": [
    "### Full Dataset"
   ]
  },
  {
   "cell_type": "code",
   "execution_count": 25,
   "id": "edd9ec1a-4e08-4ec1-b9f7-909374f92e0d",
   "metadata": {},
   "outputs": [],
   "source": [
    "# Bring in excel files.\n",
    "retail_1 = pd.read_excel(Data_PATH+\"online_retail_II.xlsx\",sheet_name=0)\n",
    "retail_2 = pd.read_excel(Data_PATH+\"online_retail_II.xlsx\",sheet_name=1)"
   ]
  },
  {
   "cell_type": "code",
   "execution_count": 26,
   "id": "6ac01b56-a8ea-40b7-8d2c-0851b77e77d1",
   "metadata": {},
   "outputs": [],
   "source": [
    "# Concat them.\n",
    "retail_all = pd.concat([retail_1,retail_2])"
   ]
  },
  {
   "cell_type": "code",
   "execution_count": 27,
   "id": "e3ad88d4-a62b-4a77-8034-3e6c63139aa0",
   "metadata": {},
   "outputs": [],
   "source": [
    "# New Column with Month Start for InvoiceDate.\n",
    "retail_all['InvoiceDate_MonthStart'] = retail_all['InvoiceDate'].to_numpy().astype('datetime64[M]')\n",
    "           "
   ]
  },
  {
   "cell_type": "code",
   "execution_count": 28,
   "id": "ecee8ec0-554a-4b74-b43e-3d07a6a77268",
   "metadata": {},
   "outputs": [],
   "source": [
    "# No spaces in column names.\n",
    "retail_all.columns = [c.replace(' ','') for c in retail_all.columns]"
   ]
  },
  {
   "cell_type": "code",
   "execution_count": 29,
   "id": "e53b0530-9b1e-46e7-b48a-b3b606b8ace1",
   "metadata": {},
   "outputs": [
    {
     "name": "stdout",
     "output_type": "stream",
     "text": [
      "(1067371, 9)\n"
     ]
    },
    {
     "data": {
      "text/html": [
       "<div>\n",
       "<style scoped>\n",
       "    .dataframe tbody tr th:only-of-type {\n",
       "        vertical-align: middle;\n",
       "    }\n",
       "\n",
       "    .dataframe tbody tr th {\n",
       "        vertical-align: top;\n",
       "    }\n",
       "\n",
       "    .dataframe thead th {\n",
       "        text-align: right;\n",
       "    }\n",
       "</style>\n",
       "<table border=\"1\" class=\"dataframe\">\n",
       "  <thead>\n",
       "    <tr style=\"text-align: right;\">\n",
       "      <th></th>\n",
       "      <th>Invoice</th>\n",
       "      <th>StockCode</th>\n",
       "      <th>Description</th>\n",
       "      <th>Quantity</th>\n",
       "      <th>InvoiceDate</th>\n",
       "      <th>Price</th>\n",
       "      <th>CustomerID</th>\n",
       "      <th>Country</th>\n",
       "      <th>InvoiceDate_MonthStart</th>\n",
       "    </tr>\n",
       "  </thead>\n",
       "  <tbody>\n",
       "    <tr>\n",
       "      <th>0</th>\n",
       "      <td>489434</td>\n",
       "      <td>85048</td>\n",
       "      <td>15CM CHRISTMAS GLASS BALL 20 LIGHTS</td>\n",
       "      <td>12</td>\n",
       "      <td>2009-12-01 07:45:00</td>\n",
       "      <td>6.95</td>\n",
       "      <td>13085.0</td>\n",
       "      <td>United Kingdom</td>\n",
       "      <td>2009-12-01</td>\n",
       "    </tr>\n",
       "    <tr>\n",
       "      <th>1</th>\n",
       "      <td>489434</td>\n",
       "      <td>79323P</td>\n",
       "      <td>PINK CHERRY LIGHTS</td>\n",
       "      <td>12</td>\n",
       "      <td>2009-12-01 07:45:00</td>\n",
       "      <td>6.75</td>\n",
       "      <td>13085.0</td>\n",
       "      <td>United Kingdom</td>\n",
       "      <td>2009-12-01</td>\n",
       "    </tr>\n",
       "    <tr>\n",
       "      <th>2</th>\n",
       "      <td>489434</td>\n",
       "      <td>79323W</td>\n",
       "      <td>WHITE CHERRY LIGHTS</td>\n",
       "      <td>12</td>\n",
       "      <td>2009-12-01 07:45:00</td>\n",
       "      <td>6.75</td>\n",
       "      <td>13085.0</td>\n",
       "      <td>United Kingdom</td>\n",
       "      <td>2009-12-01</td>\n",
       "    </tr>\n",
       "    <tr>\n",
       "      <th>3</th>\n",
       "      <td>489434</td>\n",
       "      <td>22041</td>\n",
       "      <td>RECORD FRAME 7\" SINGLE SIZE</td>\n",
       "      <td>48</td>\n",
       "      <td>2009-12-01 07:45:00</td>\n",
       "      <td>2.10</td>\n",
       "      <td>13085.0</td>\n",
       "      <td>United Kingdom</td>\n",
       "      <td>2009-12-01</td>\n",
       "    </tr>\n",
       "    <tr>\n",
       "      <th>4</th>\n",
       "      <td>489434</td>\n",
       "      <td>21232</td>\n",
       "      <td>STRAWBERRY CERAMIC TRINKET BOX</td>\n",
       "      <td>24</td>\n",
       "      <td>2009-12-01 07:45:00</td>\n",
       "      <td>1.25</td>\n",
       "      <td>13085.0</td>\n",
       "      <td>United Kingdom</td>\n",
       "      <td>2009-12-01</td>\n",
       "    </tr>\n",
       "  </tbody>\n",
       "</table>\n",
       "</div>"
      ],
      "text/plain": [
       "  Invoice StockCode                          Description  Quantity  \\\n",
       "0  489434     85048  15CM CHRISTMAS GLASS BALL 20 LIGHTS        12   \n",
       "1  489434    79323P                   PINK CHERRY LIGHTS        12   \n",
       "2  489434    79323W                  WHITE CHERRY LIGHTS        12   \n",
       "3  489434     22041         RECORD FRAME 7\" SINGLE SIZE         48   \n",
       "4  489434     21232       STRAWBERRY CERAMIC TRINKET BOX        24   \n",
       "\n",
       "          InvoiceDate  Price  CustomerID         Country  \\\n",
       "0 2009-12-01 07:45:00   6.95     13085.0  United Kingdom   \n",
       "1 2009-12-01 07:45:00   6.75     13085.0  United Kingdom   \n",
       "2 2009-12-01 07:45:00   6.75     13085.0  United Kingdom   \n",
       "3 2009-12-01 07:45:00   2.10     13085.0  United Kingdom   \n",
       "4 2009-12-01 07:45:00   1.25     13085.0  United Kingdom   \n",
       "\n",
       "  InvoiceDate_MonthStart  \n",
       "0             2009-12-01  \n",
       "1             2009-12-01  \n",
       "2             2009-12-01  \n",
       "3             2009-12-01  \n",
       "4             2009-12-01  "
      ]
     },
     "execution_count": 29,
     "metadata": {},
     "output_type": "execute_result"
    }
   ],
   "source": [
    "print(retail_all.shape)\n",
    "retail_all.head()"
   ]
  },
  {
   "cell_type": "markdown",
   "id": "f2ca9014-2aa5-49cd-a2af-0a79e3840936",
   "metadata": {},
   "source": [
    "### Split Dataset"
   ]
  },
  {
   "cell_type": "markdown",
   "id": "2b7d5eb1-4497-4dfb-982d-d370b7629c63",
   "metadata": {},
   "source": [
    "Following tables:\n",
    "- Transaction Table\n",
    "- Product Table\n",
    "- Customer Table"
   ]
  },
  {
   "cell_type": "markdown",
   "id": "389f599c-b21f-4731-a6e7-740b42f39725",
   "metadata": {},
   "source": [
    "#### Transaction Table"
   ]
  },
  {
   "cell_type": "code",
   "execution_count": 31,
   "id": "69aa93c9-cb7b-4237-b304-a56ffd969895",
   "metadata": {},
   "outputs": [],
   "source": [
    "transaction_table = retail_all[['Invoice','StockCode','Quantity','InvoiceDate','Price','CustomerID']]\n"
   ]
  },
  {
   "cell_type": "code",
   "execution_count": 32,
   "id": "81bc689f-edbd-4fea-b5ea-a2cc6af4dd5d",
   "metadata": {},
   "outputs": [
    {
     "data": {
      "text/html": [
       "<div>\n",
       "<style scoped>\n",
       "    .dataframe tbody tr th:only-of-type {\n",
       "        vertical-align: middle;\n",
       "    }\n",
       "\n",
       "    .dataframe tbody tr th {\n",
       "        vertical-align: top;\n",
       "    }\n",
       "\n",
       "    .dataframe thead th {\n",
       "        text-align: right;\n",
       "    }\n",
       "</style>\n",
       "<table border=\"1\" class=\"dataframe\">\n",
       "  <thead>\n",
       "    <tr style=\"text-align: right;\">\n",
       "      <th></th>\n",
       "      <th>Invoice</th>\n",
       "      <th>StockCode</th>\n",
       "      <th>Quantity</th>\n",
       "      <th>InvoiceDate</th>\n",
       "      <th>Price</th>\n",
       "      <th>CustomerID</th>\n",
       "    </tr>\n",
       "  </thead>\n",
       "  <tbody>\n",
       "    <tr>\n",
       "      <th>0</th>\n",
       "      <td>489434</td>\n",
       "      <td>85048</td>\n",
       "      <td>12</td>\n",
       "      <td>2009-12-01 07:45:00</td>\n",
       "      <td>6.95</td>\n",
       "      <td>13085.0</td>\n",
       "    </tr>\n",
       "    <tr>\n",
       "      <th>1</th>\n",
       "      <td>489434</td>\n",
       "      <td>79323P</td>\n",
       "      <td>12</td>\n",
       "      <td>2009-12-01 07:45:00</td>\n",
       "      <td>6.75</td>\n",
       "      <td>13085.0</td>\n",
       "    </tr>\n",
       "    <tr>\n",
       "      <th>2</th>\n",
       "      <td>489434</td>\n",
       "      <td>79323W</td>\n",
       "      <td>12</td>\n",
       "      <td>2009-12-01 07:45:00</td>\n",
       "      <td>6.75</td>\n",
       "      <td>13085.0</td>\n",
       "    </tr>\n",
       "    <tr>\n",
       "      <th>3</th>\n",
       "      <td>489434</td>\n",
       "      <td>22041</td>\n",
       "      <td>48</td>\n",
       "      <td>2009-12-01 07:45:00</td>\n",
       "      <td>2.10</td>\n",
       "      <td>13085.0</td>\n",
       "    </tr>\n",
       "    <tr>\n",
       "      <th>4</th>\n",
       "      <td>489434</td>\n",
       "      <td>21232</td>\n",
       "      <td>24</td>\n",
       "      <td>2009-12-01 07:45:00</td>\n",
       "      <td>1.25</td>\n",
       "      <td>13085.0</td>\n",
       "    </tr>\n",
       "    <tr>\n",
       "      <th>...</th>\n",
       "      <td>...</td>\n",
       "      <td>...</td>\n",
       "      <td>...</td>\n",
       "      <td>...</td>\n",
       "      <td>...</td>\n",
       "      <td>...</td>\n",
       "    </tr>\n",
       "    <tr>\n",
       "      <th>541905</th>\n",
       "      <td>581587</td>\n",
       "      <td>22899</td>\n",
       "      <td>6</td>\n",
       "      <td>2011-12-09 12:50:00</td>\n",
       "      <td>2.10</td>\n",
       "      <td>12680.0</td>\n",
       "    </tr>\n",
       "    <tr>\n",
       "      <th>541906</th>\n",
       "      <td>581587</td>\n",
       "      <td>23254</td>\n",
       "      <td>4</td>\n",
       "      <td>2011-12-09 12:50:00</td>\n",
       "      <td>4.15</td>\n",
       "      <td>12680.0</td>\n",
       "    </tr>\n",
       "    <tr>\n",
       "      <th>541907</th>\n",
       "      <td>581587</td>\n",
       "      <td>23255</td>\n",
       "      <td>4</td>\n",
       "      <td>2011-12-09 12:50:00</td>\n",
       "      <td>4.15</td>\n",
       "      <td>12680.0</td>\n",
       "    </tr>\n",
       "    <tr>\n",
       "      <th>541908</th>\n",
       "      <td>581587</td>\n",
       "      <td>22138</td>\n",
       "      <td>3</td>\n",
       "      <td>2011-12-09 12:50:00</td>\n",
       "      <td>4.95</td>\n",
       "      <td>12680.0</td>\n",
       "    </tr>\n",
       "    <tr>\n",
       "      <th>541909</th>\n",
       "      <td>581587</td>\n",
       "      <td>POST</td>\n",
       "      <td>1</td>\n",
       "      <td>2011-12-09 12:50:00</td>\n",
       "      <td>18.00</td>\n",
       "      <td>12680.0</td>\n",
       "    </tr>\n",
       "  </tbody>\n",
       "</table>\n",
       "<p>1067371 rows × 6 columns</p>\n",
       "</div>"
      ],
      "text/plain": [
       "       Invoice StockCode  Quantity         InvoiceDate  Price  CustomerID\n",
       "0       489434     85048        12 2009-12-01 07:45:00   6.95     13085.0\n",
       "1       489434    79323P        12 2009-12-01 07:45:00   6.75     13085.0\n",
       "2       489434    79323W        12 2009-12-01 07:45:00   6.75     13085.0\n",
       "3       489434     22041        48 2009-12-01 07:45:00   2.10     13085.0\n",
       "4       489434     21232        24 2009-12-01 07:45:00   1.25     13085.0\n",
       "...        ...       ...       ...                 ...    ...         ...\n",
       "541905  581587     22899         6 2011-12-09 12:50:00   2.10     12680.0\n",
       "541906  581587     23254         4 2011-12-09 12:50:00   4.15     12680.0\n",
       "541907  581587     23255         4 2011-12-09 12:50:00   4.15     12680.0\n",
       "541908  581587     22138         3 2011-12-09 12:50:00   4.95     12680.0\n",
       "541909  581587      POST         1 2011-12-09 12:50:00  18.00     12680.0\n",
       "\n",
       "[1067371 rows x 6 columns]"
      ]
     },
     "execution_count": 32,
     "metadata": {},
     "output_type": "execute_result"
    }
   ],
   "source": [
    "transaction_table"
   ]
  },
  {
   "cell_type": "markdown",
   "id": "d865412a-745c-4ca2-940d-bb865cb19cba",
   "metadata": {},
   "source": [
    "#### Product Table"
   ]
  },
  {
   "cell_type": "code",
   "execution_count": 33,
   "id": "9e5a60e7-a745-4272-adb5-bd7ff0ddb6ee",
   "metadata": {},
   "outputs": [],
   "source": [
    "# Group by StockCode and Description\n",
    "product_table = pd.DataFrame(retail_all.groupby(['StockCode','Description'])\\\n",
    "                             .agg({'Invoice':'count'}))\\\n",
    "                .reset_index()\\\n",
    "                .rename(columns={'Invoice':'Count'})\\\n",
    "                .sort_values('Count',ascending=False)\n",
    "\n",
    "# Only select StockCode with the highest count to avoid duplicates.\n",
    "product_table = product_table.groupby('StockCode').head(1).reset_index(drop=True).drop(columns=['Count'])\n"
   ]
  },
  {
   "cell_type": "code",
   "execution_count": 34,
   "id": "692eebfb-4c48-475c-81a4-8c8308f3d949",
   "metadata": {},
   "outputs": [
    {
     "name": "stdout",
     "output_type": "stream",
     "text": [
      "(4950, 2)\n"
     ]
    },
    {
     "data": {
      "text/html": [
       "<div>\n",
       "<style scoped>\n",
       "    .dataframe tbody tr th:only-of-type {\n",
       "        vertical-align: middle;\n",
       "    }\n",
       "\n",
       "    .dataframe tbody tr th {\n",
       "        vertical-align: top;\n",
       "    }\n",
       "\n",
       "    .dataframe thead th {\n",
       "        text-align: right;\n",
       "    }\n",
       "</style>\n",
       "<table border=\"1\" class=\"dataframe\">\n",
       "  <thead>\n",
       "    <tr style=\"text-align: right;\">\n",
       "      <th></th>\n",
       "      <th>StockCode</th>\n",
       "      <th>Description</th>\n",
       "    </tr>\n",
       "  </thead>\n",
       "  <tbody>\n",
       "    <tr>\n",
       "      <th>0</th>\n",
       "      <td>85123A</td>\n",
       "      <td>WHITE HANGING HEART T-LIGHT HOLDER</td>\n",
       "    </tr>\n",
       "    <tr>\n",
       "      <th>1</th>\n",
       "      <td>22423</td>\n",
       "      <td>REGENCY CAKESTAND 3 TIER</td>\n",
       "    </tr>\n",
       "    <tr>\n",
       "      <th>2</th>\n",
       "      <td>85099B</td>\n",
       "      <td>JUMBO BAG RED RETROSPOT</td>\n",
       "    </tr>\n",
       "    <tr>\n",
       "      <th>3</th>\n",
       "      <td>84879</td>\n",
       "      <td>ASSORTED COLOUR BIRD ORNAMENT</td>\n",
       "    </tr>\n",
       "    <tr>\n",
       "      <th>4</th>\n",
       "      <td>47566</td>\n",
       "      <td>PARTY BUNTING</td>\n",
       "    </tr>\n",
       "  </tbody>\n",
       "</table>\n",
       "</div>"
      ],
      "text/plain": [
       "  StockCode                         Description\n",
       "0    85123A  WHITE HANGING HEART T-LIGHT HOLDER\n",
       "1     22423            REGENCY CAKESTAND 3 TIER\n",
       "2    85099B             JUMBO BAG RED RETROSPOT\n",
       "3     84879       ASSORTED COLOUR BIRD ORNAMENT\n",
       "4     47566                       PARTY BUNTING"
      ]
     },
     "execution_count": 34,
     "metadata": {},
     "output_type": "execute_result"
    }
   ],
   "source": [
    "print(product_table.shape)\n",
    "product_table.head()"
   ]
  },
  {
   "cell_type": "code",
   "execution_count": 35,
   "id": "de8b07f3-6a07-4b76-9a5a-884722a4a9af",
   "metadata": {},
   "outputs": [
    {
     "data": {
      "text/plain": [
       "False"
      ]
     },
     "execution_count": 35,
     "metadata": {},
     "output_type": "execute_result"
    }
   ],
   "source": [
    "# Check if there are any duplicates.\n",
    "any(product_table.duplicated('StockCode'))"
   ]
  },
  {
   "cell_type": "markdown",
   "id": "883853aa-b978-460b-b8cc-3fd2d8e04d95",
   "metadata": {},
   "source": [
    "#### Customer Table"
   ]
  },
  {
   "cell_type": "code",
   "execution_count": 36,
   "id": "65d6f792-82aa-4463-8da4-3abf93543e13",
   "metadata": {},
   "outputs": [],
   "source": [
    "# Group by Customer ID, Country, and InvoiceDate.\n",
    "customer_table = pd.DataFrame(retail_all.groupby(['CustomerID','Country','InvoiceDate_MonthStart']).size()).reset_index()\\\n",
    "                    .rename(columns={0:'Count'}).sort_values('InvoiceDate_MonthStart',ascending=True).reset_index(drop=True)\n",
    "                                                                  \n",
    "# Dedupe by only including unique Customer ID and Country.\n",
    "customer_table = customer_table.drop_duplicates(subset=['CustomerID','Country'])\n",
    "\n",
    "# Rename column.\n",
    "customer_table = customer_table.rename(columns={'InvoiceDate_MonthStart':'FirstTransaction_Month'}).drop(columns=['Count'])\n"
   ]
  },
  {
   "cell_type": "code",
   "execution_count": 37,
   "id": "60c6a88e-f805-4b3d-8664-8c143096ab51",
   "metadata": {},
   "outputs": [
    {
     "name": "stdout",
     "output_type": "stream",
     "text": [
      "(5955, 3)\n"
     ]
    },
    {
     "data": {
      "text/html": [
       "<div>\n",
       "<style scoped>\n",
       "    .dataframe tbody tr th:only-of-type {\n",
       "        vertical-align: middle;\n",
       "    }\n",
       "\n",
       "    .dataframe tbody tr th {\n",
       "        vertical-align: top;\n",
       "    }\n",
       "\n",
       "    .dataframe thead th {\n",
       "        text-align: right;\n",
       "    }\n",
       "</style>\n",
       "<table border=\"1\" class=\"dataframe\">\n",
       "  <thead>\n",
       "    <tr style=\"text-align: right;\">\n",
       "      <th></th>\n",
       "      <th>CustomerID</th>\n",
       "      <th>Country</th>\n",
       "      <th>FirstTransaction_Month</th>\n",
       "    </tr>\n",
       "  </thead>\n",
       "  <tbody>\n",
       "    <tr>\n",
       "      <th>0</th>\n",
       "      <td>12346.0</td>\n",
       "      <td>United Kingdom</td>\n",
       "      <td>2009-12-01</td>\n",
       "    </tr>\n",
       "    <tr>\n",
       "      <th>1</th>\n",
       "      <td>14828.0</td>\n",
       "      <td>United Kingdom</td>\n",
       "      <td>2009-12-01</td>\n",
       "    </tr>\n",
       "    <tr>\n",
       "      <th>2</th>\n",
       "      <td>14831.0</td>\n",
       "      <td>United Kingdom</td>\n",
       "      <td>2009-12-01</td>\n",
       "    </tr>\n",
       "    <tr>\n",
       "      <th>3</th>\n",
       "      <td>16987.0</td>\n",
       "      <td>United Kingdom</td>\n",
       "      <td>2009-12-01</td>\n",
       "    </tr>\n",
       "    <tr>\n",
       "      <th>4</th>\n",
       "      <td>17998.0</td>\n",
       "      <td>United Kingdom</td>\n",
       "      <td>2009-12-01</td>\n",
       "    </tr>\n",
       "  </tbody>\n",
       "</table>\n",
       "</div>"
      ],
      "text/plain": [
       "   CustomerID         Country FirstTransaction_Month\n",
       "0     12346.0  United Kingdom             2009-12-01\n",
       "1     14828.0  United Kingdom             2009-12-01\n",
       "2     14831.0  United Kingdom             2009-12-01\n",
       "3     16987.0  United Kingdom             2009-12-01\n",
       "4     17998.0  United Kingdom             2009-12-01"
      ]
     },
     "execution_count": 37,
     "metadata": {},
     "output_type": "execute_result"
    }
   ],
   "source": [
    "print(customer_table.shape)\n",
    "customer_table.head()"
   ]
  },
  {
   "cell_type": "code",
   "execution_count": 38,
   "id": "28c31032-8ebc-45dd-972b-0bc00b66bb77",
   "metadata": {},
   "outputs": [
    {
     "data": {
      "text/plain": [
       "False"
      ]
     },
     "execution_count": 38,
     "metadata": {},
     "output_type": "execute_result"
    }
   ],
   "source": [
    "# Check if there are any duplicates.\n",
    "any(customer_table.duplicated(['CustomerID','Country']))"
   ]
  },
  {
   "cell_type": "markdown",
   "id": "1988cc0c-326e-46e6-bb49-2076038f2e40",
   "metadata": {},
   "source": [
    "### Export to Pickle"
   ]
  },
  {
   "cell_type": "code",
   "execution_count": 40,
   "id": "f09e68d7-6057-4f17-9c1c-251a2e5d045d",
   "metadata": {},
   "outputs": [],
   "source": [
    "# Export to pickle.\n",
    "transaction_table.to_pickle(Object_PATH+'admission_transaction_table.pkl')\n",
    "product_table.to_pickle(Object_PATH+'admission_product_table.pkl')\n",
    "customer_table.to_pickle(Object_PATH+'admission_customer_table.pkl')"
   ]
  },
  {
   "cell_type": "code",
   "execution_count": 37,
   "id": "30f6f8bd-7875-4497-b42b-d59462a9660e",
   "metadata": {},
   "outputs": [
    {
     "data": {
      "text/plain": [
       "'/Users/jonathankim/Documents/MaveenaData/mavdata_sqlite/Databases'"
      ]
     },
     "execution_count": 37,
     "metadata": {},
     "output_type": "execute_result"
    }
   ],
   "source": [
    "pwd"
   ]
  },
  {
   "cell_type": "code",
   "execution_count": 36,
   "id": "9b816b69-f2eb-426e-bba9-a0ae5bfe7d57",
   "metadata": {},
   "outputs": [
    {
     "data": {
      "text/plain": [
       "'Objects/'"
      ]
     },
     "execution_count": 36,
     "metadata": {},
     "output_type": "execute_result"
    }
   ],
   "source": [
    "Object_PATH"
   ]
  },
  {
   "cell_type": "code",
   "execution_count": 6,
   "id": "3ade547f-095b-42cf-b190-4a09298629eb",
   "metadata": {},
   "outputs": [],
   "source": [
    "# Import pickle objects.\n",
    "transaction_table = pd.read_pickle(Object_PATH+'admission_transaction_table.pkl')\n",
    "product_table = pd.read_pickle(Object_PATH+'admission_product_table.pkl')\n",
    "customer_table = pd.read_pickle(Object_PATH+'admission_customer_table.pkl')"
   ]
  },
  {
   "cell_type": "markdown",
   "id": "9eca79e0-c16d-413a-8ddc-306a874a931e",
   "metadata": {},
   "source": [
    "### Export to db"
   ]
  },
  {
   "cell_type": "code",
   "execution_count": 7,
   "id": "b778e991-f4c9-46ab-9517-017189e6b1f1",
   "metadata": {},
   "outputs": [],
   "source": [
    "table_dict = {'transaction_table':transaction_table,\n",
    "              'product_table':product_table,\n",
    "              'customer_table':customer_table}"
   ]
  },
  {
   "cell_type": "code",
   "execution_count": 12,
   "id": "acd59ada-8c22-4ab9-8ac5-ab990944becb",
   "metadata": {},
   "outputs": [
    {
     "name": "stdout",
     "output_type": "stream",
     "text": [
      "Creating Tables...\n",
      "    transaction_table\n",
      "    product_table\n",
      "    customer_table\n",
      "Vacuuming...\n",
      "Completed\n"
     ]
    }
   ],
   "source": [
    "create_DB(db_name=Database_PATH+\"admission.sqlite3\",\n",
    "          table_dict=table_dict)"
   ]
  },
  {
   "cell_type": "code",
   "execution_count": null,
   "id": "308de00e-6ef8-4a0c-8da9-fb1c025a622d",
   "metadata": {},
   "outputs": [],
   "source": []
  },
  {
   "cell_type": "code",
   "execution_count": null,
   "id": "a111c3bb-8a47-452e-9a06-cc5fcdd5676f",
   "metadata": {},
   "outputs": [],
   "source": []
  },
  {
   "cell_type": "markdown",
   "id": "968cd4af-7687-449e-8e80-d0e66a0c46e6",
   "metadata": {},
   "source": [
    "## Reference (WDI)"
   ]
  },
  {
   "cell_type": "code",
   "execution_count": null,
   "id": "db85b6e7-cea3-4b06-8a63-5d67e263b2fc",
   "metadata": {},
   "outputs": [],
   "source": [
    "def data():\n",
    "    frame = pd.read_excel(admission_PATH+\"Online Retail.xlsx\")\n",
    "    frame = proc_tbl(frame)\n",
    "    frame = frame.drop(columns=[\"country_name\", \"indicator_name\"])\n",
    "\n",
    "    frame = frame.set_index([\"indicator_code\", \"country_code\"], verify_integrity=True)\n",
    "    # frame = frame.stack()\n",
    "    frame = frame.stack().rename_axis(index={None: \"year\"}).rename(\"value\")\n",
    "    # convert year to int\n",
    "    frame.index = frame.index.set_levels(frame.index.levels[-1].astype(int), level=-1)\n",
    "    return frame"
   ]
  },
  {
   "cell_type": "code",
   "execution_count": 8,
   "id": "1b42190a-4661-447e-becd-9cc4e6cbf4ca",
   "metadata": {},
   "outputs": [],
   "source": [
    "def table_name(csv: str):\n",
    "    return csv.replace(\"-\",\"_\").replace(\"WDI\", \"wdi_\").lower()"
   ]
  },
  {
   "cell_type": "code",
   "execution_count": 12,
   "id": "47a576dd-8079-4b8d-b2f5-7db55c25cc8c",
   "metadata": {},
   "outputs": [
    {
     "name": "stdout",
     "output_type": "stream",
     "text": [
      "reading data\n",
      "saving data\n",
      "WDI_CSV/WDICountry -> wdi__csv/wdi_country\n",
      "WDI_CSV/WDICountry-Series -> wdi__csv/wdi_country_series\n",
      "WDI_CSV/WDIFootNote -> wdi__csv/wdi_footnote\n",
      "WDI_CSV/WDISeries -> wdi__csv/wdi_series\n",
      "WDI_CSV/WDISeries-Time -> wdi__csv/wdi_series_time\n",
      "vacuuming\n"
     ]
    }
   ],
   "source": [
    "\n",
    "with sqlite3.connect(\"wdi.sqlite3\") as c:\n",
    "    print(\"reading data\")\n",
    "    d = data()\n",
    "    print(\"saving data\")\n",
    "    d.to_sql(table_name(\"WDIData\"), con=c)\n",
    "    for csv in ['WDI_CSV/'+c for c in \n",
    "                [\"WDICountry\",\n",
    "                 \"WDICountry-Series\",\n",
    "                 \"WDIFootNote\",\n",
    "                 \"WDISeries\",\n",
    "                 \"WDISeries-Time\"]\n",
    "    ]:\n",
    "        tblname = table_name(csv)\n",
    "        print(f\"{csv} -> {tblname}\")\n",
    "        proc_tbl(pd.read_csv(f\"{csv}.csv\")).to_sql(tblname, con=c, index=False)\n",
    "        # c.execute(f\"create index on {tblname}\")\n",
    "    print(\"vacuuming\")\n",
    "    c.execute(\"vacuum\")"
   ]
  },
  {
   "cell_type": "code",
   "execution_count": null,
   "id": "c8717b7b-6af2-426e-90c6-6b73a85d710d",
   "metadata": {},
   "outputs": [],
   "source": []
  }
 ],
 "metadata": {
  "kernelspec": {
   "display_name": "Python 3 (ipykernel)",
   "language": "python",
   "name": "python3"
  },
  "language_info": {
   "codemirror_mode": {
    "name": "ipython",
    "version": 3
   },
   "file_extension": ".py",
   "mimetype": "text/x-python",
   "name": "python",
   "nbconvert_exporter": "python",
   "pygments_lexer": "ipython3",
   "version": "3.9.12"
  }
 },
 "nbformat": 4,
 "nbformat_minor": 5
}
